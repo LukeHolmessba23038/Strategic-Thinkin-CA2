{
 "cells": [
  {
   "cell_type": "code",
   "execution_count": 1,
   "id": "4fbfce5b",
   "metadata": {},
   "outputs": [],
   "source": [
    "import pandas as pd\n",
    "import numpy as np\n",
    "import matplotlib.pyplot as plt\n",
    "import seaborn as sns"
   ]
  },
  {
   "cell_type": "code",
   "execution_count": 2,
   "id": "1bfd6155",
   "metadata": {},
   "outputs": [],
   "source": [
    "file_path = 'CA01 Bitcoin Ethereum Dataset.csv'\n",
    "data = pd.read_csv(file_path)"
   ]
  },
  {
   "cell_type": "code",
   "execution_count": 3,
   "id": "e9fc1256",
   "metadata": {},
   "outputs": [
    {
     "data": {
      "text/plain": [
       "(8011, 6)"
      ]
     },
     "execution_count": 3,
     "metadata": {},
     "output_type": "execute_result"
    }
   ],
   "source": [
    "data.shape\n"
   ]
  },
  {
   "cell_type": "code",
   "execution_count": 4,
   "id": "ce0ac8b4",
   "metadata": {},
   "outputs": [
    {
     "data": {
      "text/plain": [
       "<bound method NDFrame.describe of             Date Coin      Open      High       Low     Close\n",
       "0     12/01/2023  Eth  2,046.20  2,109.79  2,041.36  2,091.25\n",
       "1     11/30/2023  Eth  2,028.52  2,052.12  2,022.81  2,046.19\n",
       "2     11/29/2023  Eth  2,054.47  2,071.97  2,020.04  2,027.57\n",
       "3     11/28/2023  Eth  2,014.78  2,076.08  1,996.16  2,054.47\n",
       "4     11/27/2023  Eth  2,074.18  2,080.54  1,987.31  2,014.87\n",
       "...          ...  ...       ...       ...       ...       ...\n",
       "8006         NaN  NaN       NaN       NaN       NaN       NaN\n",
       "8007         NaN  NaN       NaN       NaN       NaN       NaN\n",
       "8008         NaN  NaN       NaN       NaN       NaN       NaN\n",
       "8009         NaN  NaN       NaN       NaN       NaN       NaN\n",
       "8010         NaN  NaN       NaN       NaN       NaN       NaN\n",
       "\n",
       "[8011 rows x 6 columns]>"
      ]
     },
     "execution_count": 4,
     "metadata": {},
     "output_type": "execute_result"
    }
   ],
   "source": [
    "data.describe"
   ]
  },
  {
   "cell_type": "code",
   "execution_count": 5,
   "id": "42f3d103",
   "metadata": {},
   "outputs": [
    {
     "data": {
      "text/plain": [
       "<bound method NDFrame.head of             Date Coin      Open      High       Low     Close\n",
       "0     12/01/2023  Eth  2,046.20  2,109.79  2,041.36  2,091.25\n",
       "1     11/30/2023  Eth  2,028.52  2,052.12  2,022.81  2,046.19\n",
       "2     11/29/2023  Eth  2,054.47  2,071.97  2,020.04  2,027.57\n",
       "3     11/28/2023  Eth  2,014.78  2,076.08  1,996.16  2,054.47\n",
       "4     11/27/2023  Eth  2,074.18  2,080.54  1,987.31  2,014.87\n",
       "...          ...  ...       ...       ...       ...       ...\n",
       "8006         NaN  NaN       NaN       NaN       NaN       NaN\n",
       "8007         NaN  NaN       NaN       NaN       NaN       NaN\n",
       "8008         NaN  NaN       NaN       NaN       NaN       NaN\n",
       "8009         NaN  NaN       NaN       NaN       NaN       NaN\n",
       "8010         NaN  NaN       NaN       NaN       NaN       NaN\n",
       "\n",
       "[8011 rows x 6 columns]>"
      ]
     },
     "execution_count": 5,
     "metadata": {},
     "output_type": "execute_result"
    }
   ],
   "source": [
    "data.head"
   ]
  },
  {
   "cell_type": "code",
   "execution_count": 6,
   "id": "21e88d74",
   "metadata": {},
   "outputs": [
    {
     "data": {
      "text/plain": [
       "<bound method NDFrame.tail of             Date Coin      Open      High       Low     Close\n",
       "0     12/01/2023  Eth  2,046.20  2,109.79  2,041.36  2,091.25\n",
       "1     11/30/2023  Eth  2,028.52  2,052.12  2,022.81  2,046.19\n",
       "2     11/29/2023  Eth  2,054.47  2,071.97  2,020.04  2,027.57\n",
       "3     11/28/2023  Eth  2,014.78  2,076.08  1,996.16  2,054.47\n",
       "4     11/27/2023  Eth  2,074.18  2,080.54  1,987.31  2,014.87\n",
       "...          ...  ...       ...       ...       ...       ...\n",
       "8006         NaN  NaN       NaN       NaN       NaN       NaN\n",
       "8007         NaN  NaN       NaN       NaN       NaN       NaN\n",
       "8008         NaN  NaN       NaN       NaN       NaN       NaN\n",
       "8009         NaN  NaN       NaN       NaN       NaN       NaN\n",
       "8010         NaN  NaN       NaN       NaN       NaN       NaN\n",
       "\n",
       "[8011 rows x 6 columns]>"
      ]
     },
     "execution_count": 6,
     "metadata": {},
     "output_type": "execute_result"
    }
   ],
   "source": [
    "data.tail"
   ]
  },
  {
   "cell_type": "code",
   "execution_count": 7,
   "id": "a0ba9d57",
   "metadata": {},
   "outputs": [
    {
     "name": "stderr",
     "output_type": "stream",
     "text": [
      "C:\\Users\\Luke Holmes\\AppData\\Local\\Temp\\ipykernel_2764\\1258276688.py:1: UserWarning: Parsing dates in DD/MM/YYYY format when dayfirst=False (the default) was specified. This may lead to inconsistently parsed dates! Specify a format to ensure consistent parsing.\n",
      "  data['Date'] = pd.to_datetime(data['Date'])\n"
     ]
    }
   ],
   "source": [
    "data['Date'] = pd.to_datetime(data['Date'])\n"
   ]
  },
  {
   "cell_type": "code",
   "execution_count": 8,
   "id": "74f51738",
   "metadata": {},
   "outputs": [],
   "source": [
    "price_columns = ['Open', 'High', 'Low', 'Close']\n",
    "for col in price_columns:\n",
    "    data[col] = data[col].str.replace(',', '').astype(float)"
   ]
  },
  {
   "cell_type": "code",
   "execution_count": 9,
   "id": "a2d4b310",
   "metadata": {},
   "outputs": [],
   "source": [
    "missing_values = data.isnull().sum()\n"
   ]
  },
  {
   "cell_type": "code",
   "execution_count": 10,
   "id": "0e96de67",
   "metadata": {},
   "outputs": [],
   "source": [
    "missing_values = data.isnull().sum()\n"
   ]
  },
  {
   "cell_type": "code",
   "execution_count": 11,
   "id": "bee72052",
   "metadata": {},
   "outputs": [],
   "source": [
    "data_cleaned_drop = data.dropna()\n"
   ]
  },
  {
   "cell_type": "code",
   "execution_count": 12,
   "id": "047edfe4",
   "metadata": {},
   "outputs": [],
   "source": [
    "data_cleaned_fill = data.copy()\n",
    "for col in price_columns:\n",
    "    data_cleaned_fill[col] = data_cleaned_fill[col].fillna(data_cleaned_fill[col].mean())"
   ]
  },
  {
   "cell_type": "code",
   "execution_count": 13,
   "id": "7aad7635",
   "metadata": {},
   "outputs": [
    {
     "data": {
      "text/plain": [
       "(Date     0\n",
       " Coin     0\n",
       " Open     0\n",
       " High     0\n",
       " Low      0\n",
       " Close    0\n",
       " dtype: int64,\n",
       " Date     131\n",
       " Coin     131\n",
       " Open       0\n",
       " High       0\n",
       " Low        0\n",
       " Close      0\n",
       " dtype: int64)"
      ]
     },
     "execution_count": 13,
     "metadata": {},
     "output_type": "execute_result"
    }
   ],
   "source": [
    "missing_values_drop = data_cleaned_drop.isnull().sum()\n",
    "missing_values_fill = data_cleaned_fill.isnull().sum()\n",
    "\n",
    "(missing_values_drop, missing_values_fill)\n"
   ]
  },
  {
   "cell_type": "code",
   "execution_count": 14,
   "id": "29c472ca",
   "metadata": {},
   "outputs": [],
   "source": [
    "data_cleaned = data.dropna(subset=['Date', 'Coin'])\n"
   ]
  },
  {
   "cell_type": "code",
   "execution_count": 33,
   "id": "a89d0b2e",
   "metadata": {},
   "outputs": [
    {
     "name": "stdout",
     "output_type": "stream",
     "text": [
      "(7880, 7)\n",
      "        Date Coin     Open     High      Low    Close  Price_Range\n",
      "0 2023-12-01  Eth  2046.20  2109.79  2041.36  2091.25        68.43\n",
      "1 2023-11-30  Eth  2028.52  2052.12  2022.81  2046.19        29.31\n",
      "2 2023-11-29  Eth  2054.47  2071.97  2020.04  2027.57        51.93\n",
      "3 2023-11-28  Eth  2014.78  2076.08  1996.16  2054.47        79.92\n",
      "4 2023-11-27  Eth  2074.18  2080.54  1987.31  2014.87        93.23\n"
     ]
    }
   ],
   "source": [
    "ethereum_data = df[df['Coin'] == 'Eth']\n",
    "ethereum_data_no_duplicates = ethereum_data.drop_duplicates()\n",
    "df.loc[df['Coin'] == 'Eth', :] = ethereum_data_no_duplicates\n",
    "print(df.shape)\n",
    "print(df.head())\n"
   ]
  },
  {
   "cell_type": "code",
   "execution_count": 34,
   "id": "0e122dd2",
   "metadata": {},
   "outputs": [
    {
     "name": "stdout",
     "output_type": "stream",
     "text": [
      "Number of duplicate rows removed: 0\n",
      "        Date Coin     Open     High      Low    Close  Price_Range\n",
      "0 2023-12-01  Eth  2046.20  2109.79  2041.36  2091.25        68.43\n",
      "1 2023-11-30  Eth  2028.52  2052.12  2022.81  2046.19        29.31\n",
      "2 2023-11-29  Eth  2054.47  2071.97  2020.04  2027.57        51.93\n",
      "3 2023-11-28  Eth  2014.78  2076.08  1996.16  2054.47        79.92\n",
      "4 2023-11-27  Eth  2074.18  2080.54  1987.31  2014.87        93.23\n"
     ]
    }
   ],
   "source": [
    "bitcoin_data = df[df['Coin'] == 'Bitcoin']\n",
    "bitcoin_data_no_duplicates = bitcoin_data.drop_duplicates()\n",
    "df.loc[df['Coin'] == 'Bitcoin', :] = bitcoin_data_no_duplicates\n",
    "print(\"Number of duplicate rows removed:\", len(bitcoin_data) - len(bitcoin_data_no_duplicates))\n",
    "print(df.head())\n"
   ]
  },
  {
   "cell_type": "code",
   "execution_count": null,
   "id": "1e04c8fa",
   "metadata": {},
   "outputs": [],
   "source": []
  },
  {
   "cell_type": "code",
   "execution_count": 35,
   "id": "ba9d8809",
   "metadata": {},
   "outputs": [],
   "source": [
    "df.loc[df['Coin'] == 'Eth', :] = ethereum_data_no_duplicates\n"
   ]
  },
  {
   "cell_type": "code",
   "execution_count": null,
   "id": "849fde89",
   "metadata": {},
   "outputs": [],
   "source": []
  },
  {
   "cell_type": "code",
   "execution_count": 36,
   "id": "3e766e1e",
   "metadata": {},
   "outputs": [],
   "source": [
    "df.loc[df['Coin'] == 'Eth', :] = ethereum_data_no_duplicates\n"
   ]
  },
  {
   "cell_type": "code",
   "execution_count": null,
   "id": "cba65528",
   "metadata": {},
   "outputs": [],
   "source": []
  },
  {
   "cell_type": "code",
   "execution_count": 37,
   "id": "99b7be8a",
   "metadata": {},
   "outputs": [],
   "source": [
    "summary_stats = data_cleaned.describe()"
   ]
  },
  {
   "cell_type": "code",
   "execution_count": 38,
   "id": "4c0db26a",
   "metadata": {},
   "outputs": [],
   "source": [
    "df = data_cleaned"
   ]
  },
  {
   "cell_type": "code",
   "execution_count": null,
   "id": "795dfdc3",
   "metadata": {},
   "outputs": [],
   "source": []
  },
  {
   "cell_type": "code",
   "execution_count": null,
   "id": "2ce07370",
   "metadata": {},
   "outputs": [],
   "source": []
  },
  {
   "cell_type": "code",
   "execution_count": 39,
   "id": "89ba2046",
   "metadata": {},
   "outputs": [
    {
     "data": {
      "text/plain": [
       "Date           datetime64[ns]\n",
       "Coin                   object\n",
       "Open                  float64\n",
       "High                  float64\n",
       "Low                   float64\n",
       "Close                 float64\n",
       "Price_Range           float64\n",
       "dtype: object"
      ]
     },
     "execution_count": 39,
     "metadata": {},
     "output_type": "execute_result"
    }
   ],
   "source": [
    "df.dtypes"
   ]
  },
  {
   "cell_type": "code",
   "execution_count": 40,
   "id": "9ae13818",
   "metadata": {},
   "outputs": [],
   "source": [
    "summary_stats = df.describe()\n"
   ]
  },
  {
   "cell_type": "code",
   "execution_count": 41,
   "id": "a1ea3784",
   "metadata": {},
   "outputs": [],
   "source": [
    "# Trend Analysis - Mean Closing Price by Coin Over Time\n",
    "trend_analysis = df.pivot_table(values='Close', index='Date', columns='Coin', aggfunc='mean')\n",
    "\n"
   ]
  },
  {
   "cell_type": "code",
   "execution_count": 42,
   "id": "0f3374d2",
   "metadata": {},
   "outputs": [
    {
     "name": "stderr",
     "output_type": "stream",
     "text": [
      "C:\\Users\\Luke Holmes\\AppData\\Local\\Temp\\ipykernel_2764\\888209929.py:2: SettingWithCopyWarning: \n",
      "A value is trying to be set on a copy of a slice from a DataFrame.\n",
      "Try using .loc[row_indexer,col_indexer] = value instead\n",
      "\n",
      "See the caveats in the documentation: https://pandas.pydata.org/pandas-docs/stable/user_guide/indexing.html#returning-a-view-versus-a-copy\n",
      "  df['Price_Range'] = df['High'] - df['Low']\n"
     ]
    }
   ],
   "source": [
    "# Volatility Analysis - Average Daily Price Range (High - Low)\n",
    "df['Price_Range'] = df['High'] - df['Low']\n",
    "volatility_analysis = df.groupby('Coin')['Price_Range'].mean()"
   ]
  },
  {
   "cell_type": "code",
   "execution_count": 43,
   "id": "1ed129b9",
   "metadata": {},
   "outputs": [],
   "source": [
    "# Comparative Analysis - Mean Closing Price of Bitcoin vs. Ethereum\n",
    "comparative_analysis = df.groupby('Coin')['Close'].mean()\n"
   ]
  },
  {
   "cell_type": "code",
   "execution_count": 44,
   "id": "9b72be1d",
   "metadata": {},
   "outputs": [
    {
     "data": {
      "image/png": "[encoded data removed]",
      "text/plain": [
       "<Figure size 1400x700 with 1 Axes>"
      ]
     },
     "metadata": {},
     "output_type": "display_data"
    }
   ],
   "source": [
    "# Visualization\n",
    "# Time Series Plot of Closing Price Trends\n",
    "plt.figure(figsize=(14, 7))\n",
    "for coin in df['Coin'].unique():\n",
    "    subset = df[df['Coin'] == coin]\n",
    "    plt.plot(subset['Date'], subset['Close'], label=coin)\n",
    "plt.xlabel('Date')\n",
    "plt.ylabel('Closing Price')\n",
    "plt.title('Closing Price Trends for Bitcoin and Ethereum')\n",
    "plt.legend()\n",
    "plt.show()\n"
   ]
  },
  {
   "cell_type": "code",
   "execution_count": null,
   "id": "879dfe74",
   "metadata": {},
   "outputs": [],
   "source": []
  },
  {
   "cell_type": "code",
   "execution_count": null,
   "id": "dff4849e",
   "metadata": {},
   "outputs": [],
   "source": []
  }
 ],
 "metadata": {
  "kernelspec": {
   "display_name": "Python 3 (ipykernel)",
   "language": "python",
   "name": "python3"
  },
  "language_info": {
   "codemirror_mode": {
    "name": "ipython",
    "version": 3
   },
   "file_extension": ".py",
   "mimetype": "text/x-python",
   "name": "python",
   "nbconvert_exporter": "python",
   "pygments_lexer": "ipython3",
   "version": "3.11.4"
  }
 },
 "nbformat": 4,
 "nbformat_minor": 5
}
