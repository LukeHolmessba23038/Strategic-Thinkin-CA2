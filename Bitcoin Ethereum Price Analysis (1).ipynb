{
 "cells": [
  {
   "cell_type": "code",
   "execution_count": 1,
   "id": "5b361662",
   "metadata": {},
   "outputs": [],
   "source": [
    "import pandas as pd\n",
    "import numpy as np\n",
    "import matplotlib.pyplot as plt\n",
    "import seaborn as sns"
   ]
  },
  {
   "cell_type": "code",
   "execution_count": 2,
   "id": "738a4739",
   "metadata": {},
   "outputs": [],
   "source": [
    "file_path = 'CA01 Bitcoin Ethereum Dataset.csv'\n",
    "data = pd.read_csv(file_path)"
   ]
  },
  {
   "cell_type": "code",
   "execution_count": 3,
   "id": "e32bc780",
   "metadata": {},
   "outputs": [
    {
     "data": {
      "text/plain": [
       "(8011, 6)"
      ]
     },
     "execution_count": 3,
     "metadata": {},
     "output_type": "execute_result"
    }
   ],
   "source": [
    "data.shape\n"
   ]
  },
  {
   "cell_type": "code",
   "execution_count": 4,
   "id": "a772b666",
   "metadata": {},
   "outputs": [
    {
     "data": {
      "text/plain": [
       "<bound method NDFrame.describe of             Date Coin      Open      High       Low     Close\n",
       "0     12/01/2023  Eth  2,046.20  2,109.79  2,041.36  2,091.25\n",
       "1     11/30/2023  Eth  2,028.52  2,052.12  2,022.81  2,046.19\n",
       "2     11/29/2023  Eth  2,054.47  2,071.97  2,020.04  2,027.57\n",
       "3     11/28/2023  Eth  2,014.78  2,076.08  1,996.16  2,054.47\n",
       "4     11/27/2023  Eth  2,074.18  2,080.54  1,987.31  2,014.87\n",
       "...          ...  ...       ...       ...       ...       ...\n",
       "8006         NaN  NaN       NaN       NaN       NaN       NaN\n",
       "8007         NaN  NaN       NaN       NaN       NaN       NaN\n",
       "8008         NaN  NaN       NaN       NaN       NaN       NaN\n",
       "8009         NaN  NaN       NaN       NaN       NaN       NaN\n",
       "8010         NaN  NaN       NaN       NaN       NaN       NaN\n",
       "\n",
       "[8011 rows x 6 columns]>"
      ]
     },
     "execution_count": 4,
     "metadata": {},
     "output_type": "execute_result"
    }
   ],
   "source": [
    "data.describe"
   ]
  },
  {
   "cell_type": "code",
   "execution_count": 5,
   "id": "73703f10",
   "metadata": {},
   "outputs": [
    {
     "data": {
      "text/plain": [
       "<bound method NDFrame.head of             Date Coin      Open      High       Low     Close\n",
       "0     12/01/2023  Eth  2,046.20  2,109.79  2,041.36  2,091.25\n",
       "1     11/30/2023  Eth  2,028.52  2,052.12  2,022.81  2,046.19\n",
       "2     11/29/2023  Eth  2,054.47  2,071.97  2,020.04  2,027.57\n",
       "3     11/28/2023  Eth  2,014.78  2,076.08  1,996.16  2,054.47\n",
       "4     11/27/2023  Eth  2,074.18  2,080.54  1,987.31  2,014.87\n",
       "...          ...  ...       ...       ...       ...       ...\n",
       "8006         NaN  NaN       NaN       NaN       NaN       NaN\n",
       "8007         NaN  NaN       NaN       NaN       NaN       NaN\n",
       "8008         NaN  NaN       NaN       NaN       NaN       NaN\n",
       "8009         NaN  NaN       NaN       NaN       NaN       NaN\n",
       "8010         NaN  NaN       NaN       NaN       NaN       NaN\n",
       "\n",
       "[8011 rows x 6 columns]>"
      ]
     },
     "execution_count": 5,
     "metadata": {},
     "output_type": "execute_result"
    }
   ],
   "source": [
    "data.head"
   ]
  },
  {
   "cell_type": "code",
   "execution_count": 6,
   "id": "5b850542",
   "metadata": {},
   "outputs": [
    {
     "data": {
      "text/plain": [
       "<bound method NDFrame.tail of             Date Coin      Open      High       Low     Close\n",
       "0     12/01/2023  Eth  2,046.20  2,109.79  2,041.36  2,091.25\n",
       "1     11/30/2023  Eth  2,028.52  2,052.12  2,022.81  2,046.19\n",
       "2     11/29/2023  Eth  2,054.47  2,071.97  2,020.04  2,027.57\n",
       "3     11/28/2023  Eth  2,014.78  2,076.08  1,996.16  2,054.47\n",
       "4     11/27/2023  Eth  2,074.18  2,080.54  1,987.31  2,014.87\n",
       "...          ...  ...       ...       ...       ...       ...\n",
       "8006         NaN  NaN       NaN       NaN       NaN       NaN\n",
       "8007         NaN  NaN       NaN       NaN       NaN       NaN\n",
       "8008         NaN  NaN       NaN       NaN       NaN       NaN\n",
       "8009         NaN  NaN       NaN       NaN       NaN       NaN\n",
       "8010         NaN  NaN       NaN       NaN       NaN       NaN\n",
       "\n",
       "[8011 rows x 6 columns]>"
      ]
     },
     "execution_count": 6,
     "metadata": {},
     "output_type": "execute_result"
    }
   ],
   "source": [
    "data.tail"
   ]
  },
  {
   "cell_type": "code",
   "execution_count": 7,
   "id": "db7898aa",
   "metadata": {},
   "outputs": [
    {
     "name": "stderr",
     "output_type": "stream",
     "text": [
      "C:\\Users\\Luke Holmes\\AppData\\Local\\Temp\\ipykernel_9816\\1258276688.py:1: UserWarning: Parsing dates in DD/MM/YYYY format when dayfirst=False (the default) was specified. This may lead to inconsistently parsed dates! Specify a format to ensure consistent parsing.\n",
      "  data['Date'] = pd.to_datetime(data['Date'])\n"
     ]
    }
   ],
   "source": [
    "data['Date'] = pd.to_datetime(data['Date'])\n"
   ]
  },
  {
   "cell_type": "code",
   "execution_count": 8,
   "id": "b2b7158b",
   "metadata": {},
   "outputs": [],
   "source": [
    "price_columns = ['Open', 'High', 'Low', 'Close']\n",
    "for col in price_columns:\n",
    "    data[col] = data[col].str.replace(',', '').astype(float)"
   ]
  },
  {
   "cell_type": "code",
   "execution_count": 9,
   "id": "806a947e",
   "metadata": {},
   "outputs": [],
   "source": [
    "missing_values = data.isnull().sum()\n"
   ]
  },
  {
   "cell_type": "code",
   "execution_count": 10,
   "id": "c2c78759",
   "metadata": {},
   "outputs": [],
   "source": [
    "missing_values = data.isnull().sum()\n"
   ]
  },
  {
   "cell_type": "code",
   "execution_count": 11,
   "id": "de18701d",
   "metadata": {},
   "outputs": [],
   "source": [
    "data_cleaned_drop = data.dropna()\n"
   ]
  },
  {
   "cell_type": "code",
   "execution_count": 12,
   "id": "8ddcdf55",
   "metadata": {},
   "outputs": [],
   "source": [
    "data_cleaned_fill = data.copy()\n",
    "for col in price_columns:\n",
    "    data_cleaned_fill[col] = data_cleaned_fill[col].fillna(data_cleaned_fill[col].mean())"
   ]
  },
  {
   "cell_type": "code",
   "execution_count": 13,
   "id": "68aa04f3",
   "metadata": {},
   "outputs": [
    {
     "data": {
      "text/plain": [
       "(Date     0\n",
       " Coin     0\n",
       " Open     0\n",
       " High     0\n",
       " Low      0\n",
       " Close    0\n",
       " dtype: int64,\n",
       " Date     131\n",
       " Coin     131\n",
       " Open       0\n",
       " High       0\n",
       " Low        0\n",
       " Close      0\n",
       " dtype: int64)"
      ]
     },
     "execution_count": 13,
     "metadata": {},
     "output_type": "execute_result"
    }
   ],
   "source": [
    "missing_values_drop = data_cleaned_drop.isnull().sum()\n",
    "missing_values_fill = data_cleaned_fill.isnull().sum()\n",
    "\n",
    "(missing_values_drop, missing_values_fill)\n"
   ]
  },
  {
   "cell_type": "code",
   "execution_count": 14,
   "id": "5e503f22",
   "metadata": {},
   "outputs": [],
   "source": [
    "data_cleaned = data.dropna(subset=['Date', 'Coin'])\n"
   ]
  },
  {
   "cell_type": "code",
   "execution_count": null,
   "id": "de67a0b3",
   "metadata": {},
   "outputs": [],
   "source": [
    "ues_fill)"
   ]
  }
 ],
 "metadata": {
  "kernelspec": {
   "display_name": "Python 3 (ipykernel)",
   "language": "python",
   "name": "python3"
  },
  "language_info": {
   "codemirror_mode": {
    "name": "ipython",
    "version": 3
   },
   "file_extension": ".py",
   "mimetype": "text/x-python",
   "name": "python",
   "nbconvert_exporter": "python",
   "pygments_lexer": "ipython3",
   "version": "3.11.4"
  }
 },
 "nbformat": 4,
 "nbformat_minor": 5
}
